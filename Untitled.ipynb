{
 "cells": [
  {
   "cell_type": "code",
   "execution_count": 1,
   "metadata": {},
   "outputs": [],
   "source": [
    "import cv2\n",
    "import numpy\n",
    "from PIL import Image"
   ]
  },
  {
   "cell_type": "code",
   "execution_count": 151,
   "metadata": {},
   "outputs": [],
   "source": [
    "def find_contour(im):\n",
    "    a = im\n",
    "    top_found = False\n",
    "    bot_found = False\n",
    "    left_found = False\n",
    "    right_found = False\n",
    "    topI = 0\n",
    "    botI = 0\n",
    "    leftJ = 0\n",
    "    rightJ = 0\n",
    "    rows, cols = a.shape[0], a.shape[1]\n",
    "    for i in range(int(rows/10)):\n",
    "        mean = a[i*10:i*10+10, int(cols/3):int(2*cols/3)].mean()\n",
    "        prev_mean = a[i*10-10:i*10, int(cols/3):int(2*cols/3)].mean()\n",
    "        if mean < 255 and prev_mean > 254 and not top_found:\n",
    "            top_found = True\n",
    "            topI = i\n",
    "    for i in range(int(rows/10), 0, -1):    \n",
    "        mean = a[(i-1)*10:i*10, int(cols/3):int(2*cols/3)].mean()\n",
    "        prev_mean = a[i*10:i*10+10, int(cols/3):int(2*cols/3)].mean()\n",
    "        #print(prev_mean, mean)\n",
    "        if mean < 255 and prev_mean > 254 and not bot_found:\n",
    "            bot_found = True\n",
    "            botI = i\n",
    "\n",
    "    for j in range(int(cols/10)):\n",
    "        mean = a[int(rows/3):int(2*rows/3), j*10:j*10+10].mean()\n",
    "        prev_mean = a[int(rows/3):int(2*rows/3), j*10-10:j*10].mean()\n",
    "        if mean < 255 and prev_mean > 254 and not left_found:\n",
    "            left_found = True\n",
    "            leftJ = j\n",
    "    for j in range(int(cols/10), 0, -1):    \n",
    "        mean = a[int(rows/3):int(2*rows/3), (j-1)*10:j*10].mean()\n",
    "        prev_mean = a[int(rows/3):int(2*rows/3), j*10:j*10+10].mean()\n",
    "        if mean < 255 and prev_mean > 254 and not right_found:\n",
    "            right_found = True\n",
    "            rightJ = j\n",
    "\n",
    "#    print(topI, botI, leftJ, rightJ)\n",
    "    a = a[topI*10-5:botI*10+5, leftJ*10:rightJ*10]\n",
    "    return a"
   ]
  },
  {
   "cell_type": "code",
   "execution_count": 152,
   "metadata": {},
   "outputs": [
    {
     "name": "stderr",
     "output_type": "stream",
     "text": [
      "C:\\Users\\warte\\anaconda3\\lib\\site-packages\\ipykernel_launcher.py:14: RuntimeWarning: Mean of empty slice.\n",
      "  \n",
      "C:\\Users\\warte\\anaconda3\\lib\\site-packages\\ipykernel_launcher.py:28: RuntimeWarning: Mean of empty slice.\n",
      "C:\\Users\\warte\\anaconda3\\lib\\site-packages\\ipykernel_launcher.py:34: RuntimeWarning: Mean of empty slice.\n"
     ]
    },
    {
     "name": "stdout",
     "output_type": "stream",
     "text": [
      "orient -1\n",
      "662188280 662946452 -0.5\n",
      "638104733 662188280 -0.75\n",
      "620815970 638104733 -1.0\n",
      "596596922 620815970 -1.25\n",
      "579450140 596596922 -1.5\n",
      "555417329 579450140 -1.75\n",
      "555153266 555417329 -2.0\n",
      "514599173 555153266 -2.25\n",
      "514592768 514599173 -2.5\n",
      "491030888 514592768 -2.75\n",
      "497693756 491030888 -3.0\n"
     ]
    },
    {
     "data": {
      "text/plain": [
       "True"
      ]
     },
     "execution_count": 152,
     "metadata": {},
     "output_type": "execute_result"
    }
   ],
   "source": [
    "STEP = 0.25\n",
    "orig = cv2.imread('im1.png')\n",
    "#a = orig\n",
    "#a = cv2.cvtColor(a, cv2.COLOR_BGR2GRAY)\\\n",
    "croped = find_contour(orig)\n",
    "orient = 0 #0 - поворот против часовой 1 - по часовой\n",
    "left_mean = croped[0:20, :int(croped.shape[1]/2)].mean()\n",
    "right_mean = croped[0:20, int(croped.shape[1]/2):].mean()\n",
    "if right_mean < left_mean:\n",
    "    orient = -1\n",
    "else:\n",
    "    orient = 1\n",
    "print('orient', orient)\n",
    "# img = cv2.cvtColor(a, cv2.COLOR_GRAY2BGR)\n",
    "total = croped.sum()\n",
    "dst = croped\n",
    "angle = STEP*orient\n",
    "while dst.sum() <= total:    \n",
    "    total = dst.sum()\n",
    "    rows,cols = orig.shape[0], orig.shape[1]\n",
    "    M = cv2.getRotationMatrix2D((cols,rows),angle,1)\n",
    "    dst = cv2.warpAffine(orig,M,(cols,rows))\n",
    "    dst = find_contour(dst)\n",
    "    angle = angle + STEP * orient\n",
    "    print(dst.sum(), total, angle)\n",
    "#dst = find_contour(dst)\n",
    "cv2.imwrite('pre.jpg', dst)"
   ]
  },
  {
   "cell_type": "code",
   "execution_count": 150,
   "metadata": {},
   "outputs": [
    {
     "data": {
      "text/plain": [
       "True"
      ]
     },
     "execution_count": 150,
     "metadata": {},
     "output_type": "execute_result"
    }
   ],
   "source": [
    "1736876276 > 1581988966"
   ]
  },
  {
   "cell_type": "code",
   "execution_count": 13,
   "metadata": {},
   "outputs": [
    {
     "data": {
      "text/plain": [
       "PIL.Image.Image"
      ]
     },
     "execution_count": 13,
     "metadata": {},
     "output_type": "execute_result"
    }
   ],
   "source": [
    "img = Image.fromarray(a)\n",
    "type(img)"
   ]
  },
  {
   "cell_type": "code",
   "execution_count": 94,
   "metadata": {},
   "outputs": [
    {
     "data": {
      "text/plain": [
       "843213635"
      ]
     },
     "execution_count": 94,
     "metadata": {},
     "output_type": "execute_result"
    }
   ],
   "source": [
    "dst.sum()"
   ]
  },
  {
   "cell_type": "code",
   "execution_count": null,
   "metadata": {},
   "outputs": [],
   "source": []
  }
 ],
 "metadata": {
  "kernelspec": {
   "display_name": "Python 3",
   "language": "python",
   "name": "python3"
  },
  "language_info": {
   "codemirror_mode": {
    "name": "ipython",
    "version": 3
   },
   "file_extension": ".py",
   "mimetype": "text/x-python",
   "name": "python",
   "nbconvert_exporter": "python",
   "pygments_lexer": "ipython3",
   "version": "3.7.6"
  }
 },
 "nbformat": 4,
 "nbformat_minor": 4
}
