{
 "cells": [
  {
   "cell_type": "code",
   "execution_count": 1,
   "metadata": {},
   "outputs": [],
   "source": [
    "import cv2\n",
    "import numpy as np\n",
    "from PIL import Image\n",
    "import math\n",
    "import time"
   ]
  },
  {
   "cell_type": "code",
   "execution_count": 282,
   "metadata": {},
   "outputs": [],
   "source": [
    "def find_contour(im):\n",
    "    a = im\n",
    "    top_found = False\n",
    "    bot_found = False\n",
    "    left_found = False\n",
    "    right_found = False\n",
    "    rows, cols = a.shape[0], a.shape[1]\n",
    "    topI = 0\n",
    "    botI = rows\n",
    "    leftJ = 0\n",
    "    rightJ = cols\n",
    "    #maximum = \n",
    "    for i in range(int(rows/10)):\n",
    "        mean = a[i*10:i*10+10, int(cols/10):int(9*cols/10)].mean()\n",
    "        next_mean = a[i*10+10:i*10+20, int(cols/10):int(9*cols/10)].mean()     \n",
    "        diff = mean/next_mean         \n",
    "        #print(diff)\n",
    "        if diff > 1:\n",
    "            topI = i\n",
    "            break\n",
    "    for i in range(int(rows/10), 0, -1):    \n",
    "        mean = a[(i-1)*10:i*10, int(cols/10):int(9*cols/10)].mean()\n",
    "        next_mean = a[i*10-20:i*10-10, int(cols/10):int(9*cols/10)].mean()\n",
    "        diff = mean/next_mean         \n",
    "        if diff < 1:\n",
    "            botI = i\n",
    "            break\n",
    "\n",
    "    for j in range(int(cols/10)):\n",
    "        mean = a[int(rows/10):int(9*rows/10), j*10:j*10+10].mean()\n",
    "        next_mean = a[int(rows/10):int(9*rows/10), j*10+10:j*10+20].mean()\n",
    "        diff = mean/next_mean  \n",
    "        print(diff)\n",
    "        if diff < 0.9:\n",
    "            leftJ = j\n",
    "            break\n",
    "    for j in range(int(cols/10), 0, -1):    \n",
    "        mean = a[int(rows/10):int(9*rows/10), (j-1)*10:j*10].mean()\n",
    "        next_mean = a[int(rows/10):int(9*rows/10), j*10-20:j*10-10].mean()\n",
    "        diff = mean/next_mean         \n",
    "        if diff < 1:\n",
    "            rightJ = j\n",
    "            break\n",
    "\n",
    "#    print(topI, botI, leftJ, rightJ)\n",
    "    a = a[topI*10-5:botI*10+5, leftJ*10-5:rightJ*10+5]\n",
    "    #im = im[topI*10-5:botI*10+5, leftJ*10:rightJ*10]\n",
    "    return a"
   ]
  },
  {
   "cell_type": "code",
   "execution_count": null,
   "metadata": {},
   "outputs": [],
   "source": []
  },
  {
   "cell_type": "code",
   "execution_count": 48,
   "metadata": {},
   "outputs": [],
   "source": [
    "def find_contour(im, accuracy=10):\n",
    "    a = im\n",
    "    top_found = False\n",
    "    bot_found = False\n",
    "    left_found = False\n",
    "    right_found = False\n",
    "    rows, cols = a.shape[0], a.shape[1]\n",
    "    topI = 0\n",
    "    botI = rows\n",
    "    leftJ = 0\n",
    "    rightJ = cols\n",
    "    for i in range(int(rows/accuracy)):\n",
    "        mean = a[i*accuracy:i*accuracy+accuracy, int(cols/10):int(9*cols/10)].mean()\n",
    "       # prev_mean = a[i*accuracy-accuracy:i*accuracy, int(cols/10):int(9*cols/10)].mean()     \n",
    "        \n",
    "        if mean < 255:# and prev_mean > 254:\n",
    "            topI = i\n",
    "            break\n",
    "    for i in range(int(rows/accuracy), 0, -1):    \n",
    "        mean = a[(i-1)*accuracy:i*accuracy, int(cols/10):int(9*cols/10)].mean()\n",
    "        #prev_mean = a[i*accuracy:i*accuracy+accuracy, int(cols/10):int(9*cols/10)].mean()\n",
    "        \n",
    "        if mean < 255:# and prev_mean > 254:\n",
    "            botI = i\n",
    "            break\n",
    "\n",
    "    for j in range(int(cols/accuracy)):\n",
    "        mean = a[int(rows/10):int(9*rows/10), j*accuracy:j*accuracy+accuracy].mean()\n",
    "        #prev_mean = a[int(rows/10):int(9*rows/10), j*accuracy-accuracy:j*accuracy].mean()\n",
    "        if mean < 255:# and prev_mean > 254:\n",
    "            leftJ = j\n",
    "            break\n",
    "    for j in range(int(cols/accuracy), 0, -1):    \n",
    "        mean = a[int(rows/10):int(9*rows/10), (j-1)*accuracy:j*accuracy].mean()\n",
    "        #prev_mean = a[int(rows/10):int(9*rows/10), j*accuracy:j*accuracy+accuracy].mean()\n",
    "        if mean < 255:# and prev_mean > 254:\n",
    "            rightJ = j\n",
    "            break\n",
    "\n",
    "#    print(topI, botI, leftJ, rightJ)\n",
    "    half = int(accuracy / 2)\n",
    "    a = a[topI*accuracy-half:botI*accuracy+half, leftJ*accuracy-half:rightJ*accuracy+half]\n",
    "    #im = im[topI*10-5:botI*10+5, leftJ*10:rightJ*10]\n",
    "    return a"
   ]
  },
  {
   "cell_type": "code",
   "execution_count": 54,
   "metadata": {},
   "outputs": [],
   "source": [
    "def process_image(name):\n",
    "    img = cv2.imread(name)\n",
    "    #print(img.mean(), np.median(img))\n",
    "    img = cv2.cvtColor(img, cv2.COLOR_BGR2GRAY)\n",
    "    ret,img = cv2.threshold(img,img.mean()-135,255,cv2.THRESH_BINARY)\n",
    "    orig = img.copy()\n",
    "    output = img.copy()\n",
    "    img = 255-img\n",
    "\n",
    "    kernel = np.ones((10,10),np.uint8)\n",
    "    dilation = cv2.dilate(img,kernel,iterations = 5)\n",
    "    dilation = 255 - dilation\n",
    "    contours, hierarchy = cv2.findContours(dilation, cv2.RETR_TREE, cv2.CHAIN_APPROX_NONE)\n",
    "    angles = []\n",
    "    #print(len(contours))\n",
    "    contours = sorted(contours, key=cv2.contourArea, reverse=True)[:2]\n",
    "    for cnt in contours:\n",
    "        rect = cv2.minAreaRect(cnt)\n",
    "        box = cv2.boxPoints(rect)\n",
    "        box = np.int0(box)    \n",
    "        angle = rect[2]\n",
    "        #if angle > -89 and angle < 89:\n",
    "        if angle < -45:\n",
    "            angle = (90 + angle)\n",
    "        angles.append(angle)\n",
    "      #  output = cv2.drawContours(output,[box],0,(0,0,255),2)    \n",
    "    # cv2.imwrite('dilated.png', dilation)\n",
    "    # cv2.imwrite('out.png', output)\n",
    "    angles = np.array(angles)\n",
    "    if angles.mean() <  0:\n",
    "        angle = angles.min()\n",
    "    else:\n",
    "        angle = angles.max()\n",
    "    #print(angle, angles)\n",
    "    rows,cols = orig.shape[0], orig.shape[1]\n",
    "    M = cv2.getRotationMatrix2D((cols/2,rows/2),angle,1)\n",
    "    dst = cv2.warpAffine(orig,M,(cols,rows),flags=cv2.INTER_CUBIC, borderMode=cv2.BORDER_REPLICATE)\n",
    "    # cv2.imwrite('rotated.png', dst)\n",
    "    dst = find_contour(dst)\n",
    "    # cv2.imwrite('croped.png', dst)\n",
    "    return dst"
   ]
  },
  {
   "cell_type": "code",
   "execution_count": 55,
   "metadata": {},
   "outputs": [],
   "source": [
    "def match_template(img):    \n",
    "    ref = cv2.imread('headerRef.png')\n",
    "    #ref = cv2.cvtColor(ref, cv2.COLOR_BGR2GRAY)\n",
    "    #img = cv2.cvtColor(img, cv2.COLOR_BGR2GRAY)\n",
    "    #print(ref.shape, img.shape)\n",
    "    if not ref.shape == img.shape:\n",
    "        img = cv2.resize(img, (ref.shape[1], ref.shape[0]), interpolation = cv2.INTER_AREA)\n",
    "    #diff_img = cv2.absdiff(img, ref)\n",
    "    #tile_diff = int(np.sum(diff_img)/255)\n",
    "    leftJ = rightJ = 0\n",
    "    rows, cols = img.shape[0], img.shape[1]\n",
    "    for j in range(cols):\n",
    "        mean = img[:, j:j+1].mean()\n",
    "        if mean < 255:\n",
    "            leftJ = j\n",
    "            break\n",
    "    for j in range(cols, 0, -1):\n",
    "        mean = img[:, j-1:j].mean()\n",
    "        if mean < 255:\n",
    "            rightJ = j\n",
    "            break\n",
    "    #print(leftJ, rightJ, rightJ-leftJ)\n",
    "    return rightJ-leftJ in range(1850, 1880)"
   ]
  },
  {
   "cell_type": "code",
   "execution_count": 56,
   "metadata": {},
   "outputs": [],
   "source": [
    "def match_header(img):\n",
    "    ref = cv2.imread('cropedRef.png')    \n",
    "    ref = cv2.cvtColor(ref, cv2.COLOR_BGR2GRAY)\n",
    "    #img = cv2.cvtColor(img, cv2.COLOR_BGR2GRAY)\n",
    "    if not ref.shape == img.shape:\n",
    "        img = cv2.resize(img, (ref.shape[1], ref.shape[0]), interpolation = cv2.INTER_AREA)\n",
    "    diff_img = cv2.absdiff(img, ref)\n",
    "    tile_diff = int(np.sum(diff_img)/255)\n",
    "    #print('header diff:',tile_diff)\n",
    "    return tile_diff"
   ]
  },
  {
   "cell_type": "code",
   "execution_count": 57,
   "metadata": {},
   "outputs": [
    {
     "name": "stdout",
     "output_type": "stream",
     "text": [
      "False\n",
      "False\n",
      "False\n",
      "False\n",
      "True\n",
      "True\n",
      "True\n",
      "True\n",
      "True\n",
      "False\n",
      "False\n",
      "False\n",
      "False\n",
      "True\n",
      "True\n",
      "True\n",
      "True\n",
      "True\n",
      "False\n",
      "False\n",
      "False\n",
      "False\n",
      "True\n",
      "True\n",
      "True\n",
      "True\n",
      "True\n",
      "False\n",
      "False\n",
      "False\n",
      "False\n",
      "True\n",
      "True\n",
      "True\n",
      "True\n",
      "True\n",
      "False\n",
      "False\n",
      "False\n",
      "False\n",
      "True\n",
      "True\n",
      "True\n",
      "True\n",
      "True\n",
      "0.4305316183302138\n"
     ]
    }
   ],
   "source": [
    "names = ['cat.jpg', 'im54.png', 'yellow.jpg', '1Doc.jpg', 'mirror.png', 'im12.png', 'im13.png', 'im1.png','test.png']\n",
    "MAX_HEADER_DIFF = 10000\n",
    "#names = ['im1.png']\n",
    "times = []\n",
    "for i in range(5):\n",
    "    start_time = time.time()\n",
    "    count = 0\n",
    "    for n in names:    \n",
    "        processed = process_image(n)\n",
    "        #cv2.imwrite(f'{count}.png', processed)\n",
    "        header = processed[:50,:]\n",
    "        croped_header = find_contour(header, accuracy=1)\n",
    "        res = match_header(croped_header)\n",
    "        #cv2.imwrite(f'header{count}.png', croped_header)\n",
    "        count += 1\n",
    "        print(res < MAX_HEADER_DIFF)\n",
    "    times.append((time.time()-start_time)/9)\n",
    "times = np.array(times)\n",
    "print(times.mean())"
   ]
  },
  {
   "cell_type": "code",
   "execution_count": 294,
   "metadata": {},
   "outputs": [
    {
     "name": "stdout",
     "output_type": "stream",
     "text": [
      "189.27802951865223\n"
     ]
    },
    {
     "data": {
      "text/plain": [
       "True"
      ]
     },
     "execution_count": 294,
     "metadata": {},
     "output_type": "execute_result"
    }
   ],
   "source": [
    "img = cv2.imread('yellow.jpg')\n",
    "img = cv2.cvtColor(img, cv2.COLOR_BGR2GRAY)\n",
    "print(img.mean())\n",
    "ret,thresh1 = cv2.threshold(img,60,255,cv2.THRESH_BINARY)\n",
    "cv2.imwrite('collorProcessed2.png', thresh1)"
   ]
  },
  {
   "cell_type": "code",
   "execution_count": 296,
   "metadata": {},
   "outputs": [
    {
     "name": "stdout",
     "output_type": "stream",
     "text": [
      "241.38016181906795\n",
      "237.6709198575077\n",
      "239.93065734542245\n",
      "242.19397598116748\n",
      "241.76977162798397\n",
      "239.760671000846\n",
      "189.27802951865223\n"
     ]
    }
   ],
   "source": [
    "names = ['test.png', '1Doc.jpg', 'mirror.png', 'im12.png', 'im13.png', 'im1.png', 'yellow.jpg']\n",
    "for n in names:\n",
    "    img = cv2.imread(n)\n",
    "    img = cv2.cvtColor(img, cv2.COLOR_BGR2GRAY)\n",
    "    print(img.mean())"
   ]
  },
  {
   "cell_type": "code",
   "execution_count": 257,
   "metadata": {},
   "outputs": [
    {
     "data": {
      "text/plain": [
       "True"
      ]
     },
     "execution_count": 257,
     "metadata": {},
     "output_type": "execute_result"
    }
   ],
   "source": [
    "img = cv2.imread('yellow.jpg')\n",
    "img = cv2.cvtColor(img, cv2.COLOR_BGR2GRAY)\n",
    "rows, cols = img.shape[0], img.shape[1]\n",
    "for i in range(rows):\n",
    "    for j in range(cols):\n",
    "        if img[i,j] > 50:\n",
    "            img[i,j] = 255\n",
    "        else:\n",
    "            img[i,j] = 0\n",
    "cv2.imwrite('collorProcessed.png', img)"
   ]
  },
  {
   "cell_type": "code",
   "execution_count": 259,
   "metadata": {},
   "outputs": [
    {
     "data": {
      "text/plain": [
       "True"
      ]
     },
     "execution_count": 259,
     "metadata": {},
     "output_type": "execute_result"
    }
   ],
   "source": [
    "img = cv2.imread('collorProcessed.png')\n",
    "kernel = np.ones((10,10),np.uint8)\n",
    "dilation = cv2.dilate(img,kernel,iterations = 3)\n",
    "cv2.imwrite('collorProcessed2.png', img)"
   ]
  },
  {
   "cell_type": "code",
   "execution_count": null,
   "metadata": {},
   "outputs": [],
   "source": []
  },
  {
   "cell_type": "code",
   "execution_count": 126,
   "metadata": {},
   "outputs": [
    {
     "data": {
      "text/plain": [
       "True"
      ]
     },
     "execution_count": 126,
     "metadata": {},
     "output_type": "execute_result"
    }
   ],
   "source": [
    "image_file = \"header0.png\"\n",
    "img = cv2.imread(image_file)\n",
    "output = img.copy()\n",
    "img = 255 - img\n",
    "gray = cv2.cvtColor(img, cv2.COLOR_BGR2GRAY)\n",
    "#ret, thresh = cv2.threshold(gray, 0, 255, cv2.THRESH_BINARY)\n",
    "img_erode = cv2.erode(gray, np.ones((2, 2), np.uint8), iterations=1)\n",
    "img_erode = 255 - img_erode\n",
    "#cv2.imwrite('erode.png', img_erode)\n",
    "# Get contours\n",
    "contours, hierarchy = cv2.findContours(img_erode, cv2.RETR_TREE, cv2.CHAIN_APPROX_NONE)\n",
    "\n",
    "c = 0\n",
    "for cnt in contours:\n",
    "    \n",
    "    rect = cv2.minAreaRect(cnt)\n",
    "    box = cv2.boxPoints(rect)\n",
    "    box = np.int0(box) \n",
    "    #if hierarchy[0][c][3] == 0:\n",
    "    output = cv2.drawContours(output,[box],0,(0,0,255),1)    \n",
    "    c += 1\n",
    "cv2.imwrite('processedHeader.png', output)"
   ]
  },
  {
   "cell_type": "code",
   "execution_count": null,
   "metadata": {},
   "outputs": [],
   "source": []
  },
  {
   "cell_type": "code",
   "execution_count": null,
   "metadata": {},
   "outputs": [],
   "source": []
  },
  {
   "cell_type": "code",
   "execution_count": null,
   "metadata": {},
   "outputs": [],
   "source": []
  },
  {
   "cell_type": "code",
   "execution_count": 61,
   "metadata": {},
   "outputs": [],
   "source": [
    "def add_whites(img):\n",
    "    rows, cols = img.shape[0], img.shape[1]\n",
    "    img[:int(rows*0.025), :] = 255\n",
    "    img[int(rows*0.975):, :] = 255\n",
    "    img[:, :int(cols*0.025)] = 255\n",
    "    img[:, int(cols*0.975):] = 255\n",
    "    return img"
   ]
  },
  {
   "cell_type": "code",
   "execution_count": 25,
   "metadata": {},
   "outputs": [],
   "source": [
    "def preprocess_image(orig):\n",
    "    STEP = 0.75\n",
    "    #a = orig\n",
    "    #a = cv2.cvtColor(a, cv2.COLOR_BGR2GRAY)\\\n",
    "    croped = find_contour(orig)\n",
    "    orient = 0 #0 - поворот против часовой 1 - по часовой\n",
    "    left_mean = croped[0:20, :int(croped.shape[1]/2)].mean()\n",
    "    right_mean = croped[0:20, int(croped.shape[1]/2):].mean()\n",
    "    if right_mean < left_mean:\n",
    "        orient = -1\n",
    "    else:\n",
    "        orient = 1\n",
    "    print('orient', orient)\n",
    "    # img = cv2.cvtColor(a, cv2.COLOR_GRAY2BGR)\n",
    "    total = croped.sum()\n",
    "    dst = croped\n",
    "    angle = STEP*orient\n",
    "    while dst.sum() <= total:    \n",
    "        total = dst.sum()\n",
    "        rows,cols = orig.shape[0], orig.shape[1]\n",
    "        M = cv2.getRotationMatrix2D((cols/2,rows/2),angle,1)\n",
    "        dst = cv2.warpAffine(orig,M,(cols,rows),flags=cv2.INTER_CUBIC, borderMode=cv2.BORDER_REPLICATE)\n",
    "        #dst = add_whites(dst)\n",
    "        cv2.imwrite('prepre.jpg', dst)\n",
    "        dst = find_contour(dst)\n",
    "        cv2.imwrite('preprecroped.jpg', dst)\n",
    "        angle = angle + STEP * orient\n",
    "        print(dst.sum(), total, angle)\n",
    "    cv2.imwrite('pre.jpg', dst)\n",
    "    return dst\n"
   ]
  },
  {
   "cell_type": "code",
   "execution_count": 26,
   "metadata": {},
   "outputs": [
    {
     "name": "stderr",
     "output_type": "stream",
     "text": [
      "C:\\Users\\warte\\anaconda3\\lib\\site-packages\\ipykernel_launcher.py:14: RuntimeWarning: Mean of empty slice.\n",
      "  \n",
      "C:\\Users\\warte\\anaconda3\\lib\\site-packages\\ipykernel_launcher.py:28: RuntimeWarning: Mean of empty slice.\n",
      "C:\\Users\\warte\\anaconda3\\lib\\site-packages\\ipykernel_launcher.py:34: RuntimeWarning: Mean of empty slice.\n"
     ]
    },
    {
     "name": "stdout",
     "output_type": "stream",
     "text": [
      "orient -1\n",
      "640520435 748445624 -1.5\n",
      "536855510 640520435 -2.25\n",
      "434129612 536855510 -3.0\n",
      "309736769 434129612 -3.75\n",
      "231398114 309736769 -4.5\n",
      "115035656 231398114 -5.25\n",
      "4289143491 115035656 -6.0\n",
      "987692736.0 2236489216.0 (45, 2) (105, 121)\n",
      "[('1', 1), ('im12.png', True)]\n"
     ]
    }
   ],
   "source": [
    "names = ['im12.png']\n",
    "results = []\n",
    "results.append(('1', 1))\n",
    "for n in names:\n",
    "    res = process_image(n)\n",
    "    results.append((n, res))\n",
    "print(results)"
   ]
  },
  {
   "cell_type": "code",
   "execution_count": 21,
   "metadata": {},
   "outputs": [],
   "source": [
    "def process_image(name):\n",
    "    image = cv2.imread(name)\n",
    "    if np.median(image) < 250:\n",
    "        return False\n",
    "    preproc = preprocess_image(image)\n",
    "    return match_template(preproc)"
   ]
  },
  {
   "cell_type": "code",
   "execution_count": 188,
   "metadata": {},
   "outputs": [
    {
     "name": "stdout",
     "output_type": "stream",
     "text": [
      "0.6063694680780807 3.9552484751871675\n"
     ]
    }
   ],
   "source": [
    "a = cv2.imread('pre.jpg')\n",
    "b = cv2.imread('reference.jpg')\n",
    "c = cv2.imread('im1.png')\n",
    "print(np.sum(a) / np.sum(b), np.sum(c)/ np.sum(b))"
   ]
  },
  {
   "cell_type": "code",
   "execution_count": 14,
   "metadata": {},
   "outputs": [
    {
     "name": "stdout",
     "output_type": "stream",
     "text": [
      "-10.890043810347471\n"
     ]
    },
    {
     "data": {
      "text/plain": [
       "True"
      ]
     },
     "execution_count": 14,
     "metadata": {},
     "output_type": "execute_result"
    }
   ],
   "source": [
    "img = cv2.imread('test.png')\n",
    "#img = img[:500,:]\n",
    "gray = cv2.cvtColor(img, cv2.COLOR_BGR2GRAY)\n",
    "ret, thresh = cv2.threshold(gray, 0, 255, cv2.THRESH_BINARY)\n",
    "img_erode = cv2.erode(thresh, np.ones((3, 3), np.uint8), iterations=1)\n",
    "\n",
    "# Get contours\n",
    "contours, hierarchy = cv2.findContours(img_erode, cv2.RETR_TREE, cv2.CHAIN_APPROX_NONE)\n",
    "\n",
    "output = img.copy()\n",
    "angles = []\n",
    "for idx, contour in enumerate(contours):\n",
    "    (x, y, w, h) = cv2.boundingRect(contour)\n",
    "    rect = cv2.minAreaRect(contour)\n",
    "    angle = rect[2]\n",
    "    angles.append(angle)\n",
    "    if hierarchy[0][idx][3] == 0:\n",
    "        cv2.rectangle(output, (x, y), (x + w, y + h), (70, 0, 0), 1)\n",
    "cv2.imwrite('out.jpg', output)\n",
    "angles = np.array(angles)\n",
    "print(angles.mean())\n",
    "angle = angles.mean()/2\n",
    "(h, w) = img.shape[:2]\n",
    "center = (w // 2, h // 2)\n",
    "M = cv2.getRotationMatrix2D(center, angle, 1.0)\n",
    "rotated = cv2.warpAffine(output, M, (w, h),\n",
    "    flags=cv2.INTER_CUBIC, borderMode=cv2.BORDER_REPLICATE) \n",
    "cv2.imwrite('rotated.jpg', rotated)"
   ]
  },
  {
   "cell_type": "code",
   "execution_count": 43,
   "metadata": {},
   "outputs": [],
   "source": [
    "def letters_extract(image_file: str, out_size=28):\n",
    "    img = cv2.imread(image_file)\n",
    "    gray = cv2.cvtColor(img, cv2.COLOR_BGR2GRAY)\n",
    "    ret, thresh = cv2.threshold(gray, 0, 255, cv2.THRESH_BINARY)\n",
    "    #img_erode = cv2.erode(thresh, np.ones((1, 1), np.uint8), iterations=1)\n",
    "    img_erode = thresh\n",
    "    # Get contours\n",
    "    contours, hierarchy = cv2.findContours(img_erode, cv2.RETR_TREE, cv2.CHAIN_APPROX_NONE)\n",
    "\n",
    "    output = img.copy()\n",
    "\n",
    "    letters = []\n",
    "    for idx, contour in enumerate(contours):\n",
    "        (x, y, w, h) = cv2.boundingRect(contour)\n",
    "        # print(\"R\", idx, x, y, w, h, cv2.contourArea(contour), hierarchy[0][idx])\n",
    "        # hierarchy[i][0]: the index of the next contour of the same level\n",
    "        # hierarchy[i][1]: the index of the previous contour of the same level\n",
    "        # hierarchy[i][2]: the index of the first child\n",
    "        # hierarchy[i][3]: the index of the parent\n",
    "        if hierarchy[0][idx][3] == 0:\n",
    "            cv2.rectangle(output, (x, y), (x + w, y + h), (70, 0, 0), 1)\n",
    "            letter_crop = gray[y:y + h, x:x + w]\n",
    "            # print(letter_crop.shape)\n",
    "\n",
    "            # Resize letter canvas to square\n",
    "            size_max = max(w, h)\n",
    "            letter_square = 255 * np.ones(shape=[size_max, size_max], dtype=np.uint8)\n",
    "            if w > h:\n",
    "                # Enlarge image top-bottom\n",
    "                # ------\n",
    "                # ======\n",
    "                # ------\n",
    "                y_pos = size_max//2 - h//2\n",
    "                letter_square[y_pos:y_pos + h, 0:w] = letter_crop\n",
    "            elif w < h:\n",
    "                # Enlarge image left-right\n",
    "                # --||--\n",
    "                x_pos = size_max//2 - w//2\n",
    "                letter_square[0:h, x_pos:x_pos + w] = letter_crop\n",
    "            else:\n",
    "                letter_square = letter_crop\n",
    "\n",
    "            # Resize letter to 28x28 and add letter and its X-coordinate\n",
    "            letters.append((x, w, cv2.resize(letter_square, (out_size, out_size), interpolation=cv2.INTER_AREA)))\n",
    "    # Sort array in place by X-coordinate\n",
    "    letters.sort(key=lambda x: x[0], reverse=False)\n",
    "    cv2.imwrite('out.jpg', output)\n",
    "    return letters"
   ]
  },
  {
   "cell_type": "code",
   "execution_count": 44,
   "metadata": {},
   "outputs": [],
   "source": [
    "lets = letters_extract('lettertest.png')"
   ]
  },
  {
   "cell_type": "code",
   "execution_count": 40,
   "metadata": {},
   "outputs": [
    {
     "data": {
      "text/plain": [
       "True"
      ]
     },
     "execution_count": 40,
     "metadata": {},
     "output_type": "execute_result"
    }
   ],
   "source": [
    "cv2.imwrite('1.jpg', lets[0][2])"
   ]
  },
  {
   "cell_type": "code",
   "execution_count": null,
   "metadata": {},
   "outputs": [],
   "source": []
  }
 ],
 "metadata": {
  "kernelspec": {
   "display_name": "Python 3",
   "language": "python",
   "name": "python3"
  },
  "language_info": {
   "codemirror_mode": {
    "name": "ipython",
    "version": 3
   },
   "file_extension": ".py",
   "mimetype": "text/x-python",
   "name": "python",
   "nbconvert_exporter": "python",
   "pygments_lexer": "ipython3",
   "version": "3.7.6"
  }
 },
 "nbformat": 4,
 "nbformat_minor": 4
}
